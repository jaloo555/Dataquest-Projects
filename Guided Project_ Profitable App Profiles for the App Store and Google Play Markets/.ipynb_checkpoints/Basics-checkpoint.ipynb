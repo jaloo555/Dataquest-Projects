{
 "cells": [
  {
   "cell_type": "markdown",
   "metadata": {},
   "source": [
    "# Profitable app profiles for Apple Store and Google Play\n",
    "\n",
    "Our aim is to help our developers understand what type of apps are likely to attract more users on Google Play and the App Store."
   ]
  },
  {
   "cell_type": "markdown",
   "metadata": {},
   "source": [
    "## Data Exploration\n",
    "First we open the two data sets: Apple Store and Google Play"
   ]
  },
  {
   "cell_type": "code",
   "execution_count": 2,
   "metadata": {
    "collapsed": false
   },
   "outputs": [
    {
     "name": "stdout",
     "output_type": "stream",
     "text": [
      "10842\n",
      "7198\n"
     ]
    }
   ],
   "source": [
    "import csv\n",
    "appleStore = []\n",
    "playStore = []\n",
    "\n",
    "# Load in AppleStore data\n",
    "with open('AppleStore.csv', 'r') as csv_file:\n",
    "    reader = csv.reader(csv_file)\n",
    "    for row in reader:\n",
    "        appleStore.append(row)\n",
    "        \n",
    "# Load in PlayStore data\n",
    "with open('googleplaystore.csv', 'r') as csv_file:\n",
    "    reader = csv.reader(csv_file)\n",
    "    for row in reader:\n",
    "        playStore.append(row)\n",
    "        \n",
    "        \n",
    "# Make sure data loaded correctly\n",
    "print(len(playStore))\n",
    "print(len(appleStore))"
   ]
  },
  {
   "cell_type": "markdown",
   "metadata": {},
   "source": [
    "To ease the taks of exploring data, we will create a function to repeatedly print rows in a readable way"
   ]
  },
  {
   "cell_type": "code",
   "execution_count": 3,
   "metadata": {
    "collapsed": false
   },
   "outputs": [],
   "source": [
    "def explore_data(dataset, start, end, rows_and_columns=False):\n",
    "    dataset_slice = dataset[start:end]\n",
    "    for row in dataset_slice:\n",
    "        print(row)\n",
    "        print('\\n') # adds a new (empty) line after each row\n",
    "\n",
    "    if rows_and_columns:\n",
    "        print('Number of rows:', len(dataset))\n",
    "        print('Number of columns:', len(dataset[0]))"
   ]
  },
  {
   "cell_type": "code",
   "execution_count": 4,
   "metadata": {
    "collapsed": false
   },
   "outputs": [
    {
     "name": "stdout",
     "output_type": "stream",
     "text": [
      "['App', 'Category', 'Rating', 'Reviews', 'Size', 'Installs', 'Type', 'Price', 'Content Rating', 'Genres', 'Last Updated', 'Current Ver', 'Android Ver']\n",
      "\n",
      "\n",
      "Number of rows: 10842\n",
      "Number of columns: 13\n",
      "\n",
      "\n",
      "['id', 'track_name', 'size_bytes', 'currency', 'price', 'rating_count_tot', 'rating_count_ver', 'user_rating', 'user_rating_ver', 'ver', 'cont_rating', 'prime_genre', 'sup_devices.num', 'ipadSc_urls.num', 'lang.num', 'vpp_lic']\n",
      "\n",
      "\n",
      "Number of rows: 7198\n",
      "Number of columns: 16\n"
     ]
    }
   ],
   "source": [
    "# Column headings\n",
    "\n",
    "explore_data(playStore, 0, 1, True)\n",
    "print('\\n')\n",
    "explore_data(appleStore, 0, 1, True)"
   ]
  },
  {
   "cell_type": "markdown",
   "metadata": {},
   "source": [
    "## Removing duplicates\n",
    "\n",
    "First, we have to clean out the duplicate apps in Playstore. Below, I've listed a few of the duplicate apps existing in the data set."
   ]
  },
  {
   "cell_type": "code",
   "execution_count": 5,
   "metadata": {
    "collapsed": false
   },
   "outputs": [
    {
     "name": "stdout",
     "output_type": "stream",
     "text": [
      "Number of duplicate apps:  1181\n",
      "\n",
      "\n",
      "Examples:  ['Quick PDF Scanner + OCR FREE', 'Box', 'Google My Business', 'ZOOM Cloud Meetings', 'join.me - Simple Meetings', 'Box', 'Zenefits', 'Google Ads', 'Google My Business', 'Slack', 'FreshBooks Classic', 'Insightly CRM', 'QuickBooks Accounting: Invoicing & Expenses', 'HipChat - Chat Built for Teams', 'Xero Accounting Software']\n"
     ]
    }
   ],
   "source": [
    "duplicates = []\n",
    "uniques = []\n",
    "for app in playStore:\n",
    "    name = app[0]\n",
    "    if name in uniques:\n",
    "        duplicates.append(name)\n",
    "    else:\n",
    "        uniques.append(name)\n",
    "\n",
    "print('Number of duplicate apps: ', len(duplicates))\n",
    "print('\\n')\n",
    "print('Examples: ', duplicates[:15])"
   ]
  },
  {
   "cell_type": "code",
   "execution_count": 6,
   "metadata": {
    "collapsed": false
   },
   "outputs": [
    {
     "name": "stdout",
     "output_type": "stream",
     "text": [
      "Expected len:  9661\n",
      "Actual cleaned len:  9661\n",
      "\n",
      "\n",
      "['Photo Editor & Candy Camera & Grid & ScrapBook', 'ART_AND_DESIGN', '4.1', '159', '19M', '10,000+', 'Free', '0', 'Everyone', 'Art & Design', 'January 7, 2018', '1.0.0', '4.0.3 and up']\n",
      "\n",
      "\n",
      "['U Launcher Lite – FREE Live Cool Themes, Hide Apps', 'ART_AND_DESIGN', '4.7', '87510', '8.7M', '5,000,000+', 'Free', '0', 'Everyone', 'Art & Design', 'August 1, 2018', '1.2.4', '4.0.3 and up']\n",
      "\n",
      "\n",
      "Number of rows: 9661\n",
      "Number of columns: 13\n"
     ]
    }
   ],
   "source": [
    "# Detecting duplicate entries (criterion: only keep the ones with most reviews)\n",
    "\n",
    "reviews_max = {}\n",
    "for app in playStore:\n",
    "    name = app[0]\n",
    "    n_reviews = app[3]\n",
    "    if((name in reviews_max) and reviews_max[name] < n_reviews):\n",
    "        reviews_max[name] = n_reviews\n",
    "    elif(name not in reviews_max):\n",
    "        reviews_max[name] = n_reviews\n",
    "    \n",
    "print('Expected len: ', len(playStore)-1181)\n",
    "print('Actual cleaned len: ', len(reviews_max))\n",
    "\n",
    "# Removing duplicates\n",
    "android_clean = []\n",
    "already_added = []\n",
    "\n",
    "for app in playStore:\n",
    "    name = app[0]\n",
    "    n_reviews = app[3]\n",
    "    if(n_reviews == reviews_max[name] and name not in already_added):\n",
    "        android_clean.append(app)\n",
    "        already_added.append(name)\n",
    "\n",
    "print('\\n')\n",
    "explore_data(android_clean, 1, 3, True)"
   ]
  },
  {
   "cell_type": "markdown",
   "metadata": {},
   "source": [
    "## Removing non-English apps\n",
    "\n",
    "If we explore the data long enough, we'll see that there are entries with non-english names:"
   ]
  },
  {
   "cell_type": "code",
   "execution_count": 7,
   "metadata": {
    "collapsed": false
   },
   "outputs": [],
   "source": [
    "def checkEng(name):\n",
    "    isEng = True\n",
    "    count = 0\n",
    "    for s in name:\n",
    "        if(ord(s) > 127):\n",
    "            count+=1\n",
    "    if(count >= 3):\n",
    "        isEng = False\n",
    "        \n",
    "    return isEng"
   ]
  },
  {
   "cell_type": "markdown",
   "metadata": {},
   "source": [
    "The function works fine, but it eliminates some English apps with special characters and emojis.\n",
    "\n",
    "Hence, we've adapted the function to allow up-to 3 non-ascii characters\n",
    "\n",
    "Here are some examples:"
   ]
  },
  {
   "cell_type": "code",
   "execution_count": 8,
   "metadata": {
    "collapsed": false
   },
   "outputs": [
    {
     "name": "stdout",
     "output_type": "stream",
     "text": [
      "True\n",
      "True\n"
     ]
    }
   ],
   "source": [
    "print(checkEng('Docs To Go™ Free Office Suite'))\n",
    "print(checkEng('Instachat 😜'))"
   ]
  },
  {
   "cell_type": "markdown",
   "metadata": {},
   "source": [
    "Now, we loop through the data set and delete the non-english entries"
   ]
  },
  {
   "cell_type": "code",
   "execution_count": 9,
   "metadata": {
    "collapsed": false
   },
   "outputs": [
    {
     "name": "stdout",
     "output_type": "stream",
     "text": [
      "9599\n",
      "6156\n"
     ]
    }
   ],
   "source": [
    "new_android_list = []\n",
    "new_ios_list = []\n",
    "\n",
    "for app in android_clean:\n",
    "    name = app[0]\n",
    "    if(checkEng(name)):\n",
    "        new_android_list.append(app)\n",
    "\n",
    "for app in appleStore:\n",
    "    name = app[1]\n",
    "    if(checkEng(name)):\n",
    "        new_ios_list.append(app)\n",
    "\n",
    "print(len(new_android_list))\n",
    "print(len(new_ios_list))"
   ]
  },
  {
   "cell_type": "markdown",
   "metadata": {},
   "source": [
    "## Isolating free apps\n",
    "\n",
    "Below, we will make sure we only analyze free apps"
   ]
  },
  {
   "cell_type": "code",
   "execution_count": 10,
   "metadata": {
    "collapsed": false
   },
   "outputs": [
    {
     "name": "stdout",
     "output_type": "stream",
     "text": [
      "8845\n",
      "3203\n"
     ]
    }
   ],
   "source": [
    "free_android_list = []\n",
    "free_ios_list = []\n",
    "\n",
    "for app in new_android_list:\n",
    "    price = app[6]\n",
    "    if(price == 'Free'):\n",
    "        free_android_list.append(app)\n",
    "        \n",
    "for app in new_ios_list:\n",
    "    price = app[4]\n",
    "    if(price == '0.0'):\n",
    "        free_ios_list.append(app)\n",
    "        \n",
    "print(len(free_android_list))\n",
    "print(len(free_ios_list))"
   ]
  },
  {
   "cell_type": "markdown",
   "metadata": {},
   "source": [
    "# Taking a step back\n",
    "\n",
    "(Verbatim from Dataquest)\n",
    "\n",
    "Our aim is to determine the kinds of apps that are likely to attract more users because our revenue is highly influenced by the number of people using our apps.\n",
    "\n",
    "To minimize risks and overhead, our validation strategy for an app idea is comprised of three steps:\n",
    "\n",
    "1. Build a minimal Android version of the app, and add it to Google Play.\n",
    "\n",
    "2. If the app has a good response from users, we develop it further.\n",
    "\n",
    "3. If the app is profitable after six months, we build an iOS version of the app and add it to the App Store.\n",
    "\n",
    "Because our end goal is to add the app on both Google Play and the App Store, we need to find app profiles that are successful on both markets. For instance, a profile that works well for both markets might be a productivity app that makes use of gamification."
   ]
  },
  {
   "cell_type": "code",
   "execution_count": 11,
   "metadata": {
    "collapsed": false
   },
   "outputs": [
    {
     "name": "stdout",
     "output_type": "stream",
     "text": [
      "['App', 'Category', 'Rating', 'Reviews', 'Size', 'Installs', 'Type', 'Price', 'Content Rating', 'Genres', 'Last Updated', 'Current Ver', 'Android Ver']\n",
      "\n",
      "\n",
      "Number of rows: 10842\n",
      "Number of columns: 13\n",
      "\n",
      "\n",
      "['id', 'track_name', 'size_bytes', 'currency', 'price', 'rating_count_tot', 'rating_count_ver', 'user_rating', 'user_rating_ver', 'ver', 'cont_rating', 'prime_genre', 'sup_devices.num', 'ipadSc_urls.num', 'lang.num', 'vpp_lic']\n",
      "\n",
      "\n",
      "Number of rows: 7198\n",
      "Number of columns: 16\n"
     ]
    }
   ],
   "source": [
    "explore_data(playStore, 0, 1, True)\n",
    "print('\\n')\n",
    "explore_data(appleStore, 0, 1, True)"
   ]
  },
  {
   "cell_type": "markdown",
   "metadata": {},
   "source": [
    "By taking a glance at the columns, we can see that genre and prime_genre can be used to better understand which category the app should be. Hence, we will build a frequency_table for each."
   ]
  },
  {
   "cell_type": "code",
   "execution_count": 12,
   "metadata": {
    "collapsed": true
   },
   "outputs": [],
   "source": [
    "# Generates a frequency table\n",
    "def freq_table(dataset, index):\n",
    "    table = {}\n",
    "    total = 0\n",
    "    for row in dataset:\n",
    "        total += 1\n",
    "        value = row[index]\n",
    "        if value in table:\n",
    "            table[value] += 1\n",
    "        else:\n",
    "            table[value] = 1   \n",
    "    table_percentages = {}\n",
    "    for key in table:\n",
    "        percentage = (table[key] / total) * 100\n",
    "        table_percentages[key] = percentage \n",
    "    \n",
    "    return table_percentages\n",
    "\n",
    "\n",
    "# Displays table in percentages\n",
    "def display_table(dataset, index):\n",
    "    table = freq_table(dataset, index)\n",
    "    table_display = []\n",
    "    for key in table:\n",
    "        key_val_as_tuple = (table[key], key)\n",
    "        table_display.append(key_val_as_tuple)\n",
    "        \n",
    "    table_sorted = sorted(table_display, reverse = True)\n",
    "    for entry in table_sorted:\n",
    "        print(entry[1], ':', entry[0])"
   ]
  },
  {
   "cell_type": "markdown",
   "metadata": {},
   "source": [
    "Below is the top 5 genres that gained the most traction in the play store:"
   ]
  },
  {
   "cell_type": "code",
   "execution_count": 13,
   "metadata": {
    "collapsed": false
   },
   "outputs": [
    {
     "name": "stdout",
     "output_type": "stream",
     "text": [
      "['Tools', 'Entertainment', 'Education', 'Business', 'Productivity']\n"
     ]
    }
   ],
   "source": [
    "# play store freq table for genres\n",
    "play_genres = freq_table(free_android_list, 9)\n",
    "\n",
    "# Displaying top five genres\n",
    "sorted_play_genres = sorted(play_genres, key=play_genres.get, reverse = True)\n",
    "\n",
    "print(sorted_play_genres[:5])"
   ]
  },
  {
   "cell_type": "markdown",
   "metadata": {},
   "source": [
    "Below is the top 5 genres that gained the most traction in the apple\n",
    "store:"
   ]
  },
  {
   "cell_type": "code",
   "execution_count": 14,
   "metadata": {
    "collapsed": false
   },
   "outputs": [
    {
     "name": "stdout",
     "output_type": "stream",
     "text": [
      "['Games', 'Entertainment', 'Photo & Video', 'Education', 'Social Networking']\n"
     ]
    }
   ],
   "source": [
    "# play store freq table for genres\n",
    "apple_genres = freq_table(free_ios_list, 11)\n",
    "\n",
    "# Displaying top five genres\n",
    "sorted_apple_genres = sorted(apple_genres, key=apple_genres.get, reverse = True)\n",
    "\n",
    "print(sorted_apple_genres[:5])"
   ]
  },
  {
   "cell_type": "markdown",
   "metadata": {},
   "source": [
    "Below is the top 5 categories that gained most traction:"
   ]
  },
  {
   "cell_type": "code",
   "execution_count": 15,
   "metadata": {
    "collapsed": false
   },
   "outputs": [
    {
     "name": "stdout",
     "output_type": "stream",
     "text": [
      "['FAMILY', 'GAME', 'TOOLS', 'BUSINESS', 'PRODUCTIVITY']\n"
     ]
    }
   ],
   "source": [
    "# play store freq table for genres\n",
    "play_category = freq_table(free_android_list, 1)\n",
    "\n",
    "# Displaying top five genres\n",
    "sorted_play_category = sorted(play_category, key=play_category.get, reverse = True)\n",
    "\n",
    "print(sorted_play_category[:5])"
   ]
  },
  {
   "cell_type": "markdown",
   "metadata": {},
   "source": [
    "## Other ways to determine popular profiles\n",
    "\n",
    "Instead of sorting and searching for the most frequent genres, we can look at apps with the highest number of installations.\n",
    "\n",
    "Below, we will look at the average number of installs for each app genre on the App Store:"
   ]
  },
  {
   "cell_type": "code",
   "execution_count": 16,
   "metadata": {
    "collapsed": false
   },
   "outputs": [
    {
     "name": "stdout",
     "output_type": "stream",
     "text": [
      "Photo & Video : 28441.54375\n",
      "Entertainment : 14195.358565737051\n",
      "News : 21248.023255813954\n",
      "Music : 57326.530303030304\n",
      "Shopping : 27230.734939759037\n",
      "Catalogs : 4004.0\n",
      "Book : 46384.916666666664\n",
      "Food & Drink : 33333.92307692308\n",
      "Navigation : 86090.33333333333\n",
      "Weather : 52279.892857142855\n",
      "Business : 7491.117647058823\n",
      "Lifestyle : 16815.48\n",
      "Games : 22886.36709539121\n",
      "Productivity : 21028.410714285714\n",
      "Finance : 32367.02857142857\n",
      "Utilities : 19156.493670886077\n",
      "Social Networking : 71548.34905660378\n",
      "Reference : 79350.4705882353\n",
      "Sports : 23008.898550724636\n",
      "Travel : 28243.8\n",
      "Health & Fitness : 23298.015384615384\n",
      "Education : 7003.983050847458\n",
      "Medical : 612.0\n"
     ]
    }
   ],
   "source": [
    "for genre in apple_genres:\n",
    "    total = 0\n",
    "    len_genre = 0\n",
    "    for app in free_ios_list:\n",
    "        genre_app = app[-5]\n",
    "        if genre_app == genre:            \n",
    "            n_ratings = float(app[5])\n",
    "            total += n_ratings\n",
    "            len_genre += 1\n",
    "    avg_n_ratings = total / len_genre\n",
    "    print(genre, ':', avg_n_ratings)"
   ]
  },
  {
   "cell_type": "markdown",
   "metadata": {},
   "source": [
    "Now we calculate average number of installs per app genre for the Google Play data set."
   ]
  },
  {
   "cell_type": "code",
   "execution_count": 17,
   "metadata": {
    "collapsed": false
   },
   "outputs": [
    {
     "name": "stdout",
     "output_type": "stream",
     "text": [
      "HEALTH_AND_FITNESS : 4188821.9853479853\n",
      "PARENTING : 542603.6206896552\n",
      "HOUSE_AND_HOME : 1360598.042253521\n",
      "BUSINESS : 1712290.1474201474\n",
      "EDUCATION : 1820673.076923077\n",
      "MAPS_AND_NAVIGATION : 4049274.6341463416\n",
      "PRODUCTIVITY : 16787331.344927534\n",
      "SOCIAL : 23253652.127118643\n",
      "TOOLS : 10710881.491298527\n",
      "LIFESTYLE : 1446158.2238372094\n",
      "NEWS_AND_MAGAZINES : 9549178.467741935\n",
      "BOOKS_AND_REFERENCE : 8814199.78835979\n",
      "COMICS : 832613.8888888889\n",
      "ENTERTAINMENT : 11640705.88235294\n",
      "SPORTS : 3650602.276666667\n",
      "FOOD_AND_DRINK : 1924897.7363636363\n",
      "MEDICAL : 120616.48717948717\n",
      "FAMILY : 3696479.242695289\n",
      "PERSONALIZATION : 5201482.6122448975\n",
      "TRAVEL_AND_LOCAL : 13984077.710144928\n",
      "EVENTS : 253542.22222222222\n",
      "COMMUNICATION : 38590581.08741259\n",
      "SHOPPING : 7036877.311557789\n",
      "AUTO_AND_VEHICLES : 647317.8170731707\n",
      "VIDEO_PLAYERS : 24727872.452830188\n",
      "PHOTOGRAPHY : 17805627.643678162\n",
      "LIBRARIES_AND_DEMO : 638503.734939759\n",
      "GAME : 15516683.567251462\n",
      "BEAUTY : 513151.88679245283\n",
      "FINANCE : 1387692.475609756\n",
      "ART_AND_DESIGN : 1986335.0877192982\n",
      "WEATHER : 5145550.285714285\n",
      "DATING : 854028.8303030303\n"
     ]
    }
   ],
   "source": [
    "categories_android = freq_table(free_android_list, 1)\n",
    "\n",
    "for category in categories_android:\n",
    "    total = 0\n",
    "    len_category = 0\n",
    "    for app in free_android_list:\n",
    "        category_app = app[1]\n",
    "        if category_app == category:            \n",
    "            n_installs = app[5]\n",
    "            n_installs = n_installs.replace(',', '')\n",
    "            n_installs = n_installs.replace('+', '')\n",
    "            total += float(n_installs)\n",
    "            len_category += 1\n",
    "    avg_n_installs = total / len_category\n",
    "    print(category, ':', avg_n_installs)"
   ]
  },
  {
   "cell_type": "markdown",
   "metadata": {
    "collapsed": true
   },
   "source": [
    "# Done!"
   ]
  }
 ],
 "metadata": {
  "kernelspec": {
   "display_name": "Python 3",
   "language": "python",
   "name": "python3"
  },
  "language_info": {
   "codemirror_mode": {
    "name": "ipython",
    "version": 3
   },
   "file_extension": ".py",
   "mimetype": "text/x-python",
   "name": "python",
   "nbconvert_exporter": "python",
   "pygments_lexer": "ipython3",
   "version": "3.4.3"
  }
 },
 "nbformat": 4,
 "nbformat_minor": 2
}
